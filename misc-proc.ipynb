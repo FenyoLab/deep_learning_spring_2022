{
 "cells": [
  {
   "cell_type": "code",
   "execution_count": 1,
   "id": "e02186d5",
   "metadata": {},
   "outputs": [],
   "source": [
    "# from masks, make an image with the background, boundary and inner pixels marked as 0, 1, 2\n",
    "# for input to U-net\n",
    "# also, as progressing, count up the proportion of each class in each image\n",
    "# take an average proportion over all images for the weighted loss\n",
    "\n",
    "import os\n",
    "import numpy as np\n",
    "from tqdm import tqdm\n",
    "from skimage.io import imread, imshow, imread_collection, concatenate_images\n",
    "import matplotlib.pyplot as plt\n",
    "from PIL import Image\n",
    "from skimage import draw,io,segmentation\n",
    "import time\n",
    "import sys\n",
    "import helper_functions as myutils\n",
    "import seaborn as sns\n",
    "import pandas as pd\n",
    "\n",
    "TRAIN_PATH=\"/scratch_tmp/snk218/stage1_train\""
   ]
  },
  {
   "cell_type": "code",
   "execution_count": 2,
   "id": "340452b9",
   "metadata": {},
   "outputs": [],
   "source": [
    "img_ids=next(os.walk(TRAIN_PATH))[1]"
   ]
  },
  {
   "cell_type": "code",
   "execution_count": null,
   "id": "c28af6aa",
   "metadata": {},
   "outputs": [],
   "source": []
  },
  {
   "cell_type": "code",
   "execution_count": 111,
   "id": "c3375979",
   "metadata": {},
   "outputs": [
    {
     "name": "stdout",
     "output_type": "stream",
     "text": [
      "0\n",
      "100\n",
      "200\n",
      "300\n",
      "400\n",
      "500\n",
      "600\n",
      "[ 0.39173999 10.32560528 38.03282406]\n"
     ]
    }
   ],
   "source": [
    "import warnings\n",
    "\n",
    "if(True):\n",
    "    ave_class_weights=np.array([0.,0.,0.])\n",
    "    \n",
    "    with warnings.catch_warnings():\n",
    "        warnings.simplefilter(\"ignore\")\n",
    "\n",
    "        for i,image_id in enumerate(img_ids):\n",
    "\n",
    "            if(i % 100 == 0):\n",
    "                print(i)\n",
    "\n",
    "            #print(image_id)\n",
    "\n",
    "            # Load image\n",
    "            img_file = os.path.join(TRAIN_PATH, image_id, \"images\", image_id+\".png\")\n",
    "            image = Image.open(img_file).convert(\"RGB\") # must return PIL image \n",
    "\n",
    "            # Load masks - masks are a series of binary images - one per nucleus\n",
    "            mask_files = next(os.walk(os.path.join(TRAIN_PATH, image_id, \"masks\")))[2]\n",
    "\n",
    "            labeled_masks=np.zeros((image.height,image.width), dtype='uint32')\n",
    "            for i,mask_file in enumerate(mask_files):\n",
    "                cur_mask = imread(os.path.join(TRAIN_PATH, image_id, \"masks\", mask_file)).astype('uint32')\n",
    "                cur_mask=(cur_mask//255)*i\n",
    "                labeled_masks+=cur_mask\n",
    "\n",
    "            boundary_img=segmentation.find_boundaries(labeled_masks, mode='inner')\n",
    "\n",
    "            # 0/1 background/nuclei\n",
    "            labeled_masks=(labeled_masks>0).astype('uint8')\n",
    "            \n",
    "            # 0/1/2 background/nuclei/boundary\n",
    "            labeled_masks = labeled_masks + (boundary_img.astype('uint8')*1) \n",
    "            \n",
    "            # class weights for weighted loss\n",
    "            class_weights=(image.height*image.width) / (3 * np.bincount(labeled_masks.flatten()))\n",
    "            \n",
    "            ave_class_weights+=class_weights\n",
    "\n",
    "            save_file=os.path.join(TRAIN_PATH, image_id, image_id+'_boundaries.png')\n",
    "            io.imsave(save_file, labeled_masks)\n",
    "            \n",
    "        ave_class_weights=ave_class_weights/len(img_ids)\n",
    "        \n",
    "print(ave_class_weights)"
   ]
  },
  {
   "cell_type": "code",
   "execution_count": 106,
   "id": "4053bc51",
   "metadata": {},
   "outputs": [
    {
     "data": {
      "text/plain": [
       "array([64412,   832,   292])"
      ]
     },
     "execution_count": 106,
     "metadata": {},
     "output_type": "execute_result"
    }
   ],
   "source": [
    "#ce_loss=nn.CrossEntropyLoss(weight=torch.tensor(class_weights,dtype=torch.float32))"
   ]
  },
  {
   "cell_type": "code",
   "execution_count": 101,
   "id": "6f97b1a4",
   "metadata": {},
   "outputs": [
    {
     "data": {
      "text/plain": [
       "array([ 0.33915005, 26.25641026, 74.81278539])"
      ]
     },
     "execution_count": 101,
     "metadata": {},
     "output_type": "execute_result"
    }
   ],
   "source": [
    "ratios"
   ]
  },
  {
   "cell_type": "code",
   "execution_count": 109,
   "id": "57fd126f",
   "metadata": {},
   "outputs": [
    {
     "data": {
      "text/plain": [
       "array([0.00050619, 0.03918867, 0.11166087])"
      ]
     },
     "execution_count": 109,
     "metadata": {},
     "output_type": "execute_result"
    }
   ],
   "source": [
    "ave_class_weights"
   ]
  },
  {
   "cell_type": "code",
   "execution_count": 91,
   "id": "bf4c2487",
   "metadata": {},
   "outputs": [],
   "source": [
    "id_=\"0c2550a23b8a0f29a7575de8c61690d3c31bc897dd5ba66caec201d201a278c2\"\n",
    "#id_=\"ec031f176dafe0b36547068ce42eab39428ec7995dac1b3ea52d1db79b61fdeb\"\n",
    "lmask = io.imread(TRAIN_PATH+'/'+id_+'/'+id_+'_boundaries.png')"
   ]
  },
  {
   "cell_type": "code",
   "execution_count": 112,
   "id": "d33ef2aa",
   "metadata": {},
   "outputs": [
    {
     "name": "stderr",
     "output_type": "stream",
     "text": [
      "/ext3/miniconda3/lib/python3.9/site-packages/skimage/io/_plugins/matplotlib_plugin.py:150: UserWarning: Low image data range; displaying image with stretched contrast.\n",
      "  lo, hi, cmap = _get_display_range(image)\n"
     ]
    },
    {
     "data": {
      "text/plain": [
       "<matplotlib.image.AxesImage at 0x14755c7879d0>"
      ]
     },
     "execution_count": 112,
     "metadata": {},
     "output_type": "execute_result"
    },
    {
     "data": {
      "image/png": "[encoded data removed]",
      "text/plain": [
       "<Figure size 432x288 with 2 Axes>"
      ]
     },
     "metadata": {
      "needs_background": "light"
     },
     "output_type": "display_data"
    }
   ],
   "source": [
    "io.imshow(lmask, cmap='jet')"
   ]
  },
  {
   "cell_type": "code",
   "execution_count": 115,
   "id": "dd140ee7",
   "metadata": {},
   "outputs": [
    {
     "data": {
      "text/plain": [
       "<matplotlib.image.AxesImage at 0x14755c6d4700>"
      ]
     },
     "execution_count": 115,
     "metadata": {},
     "output_type": "execute_result"
    },
    {
     "data": {
      "image/png": "[encoded data removed]",
      "text/plain": [
       "<Figure size 432x288 with 1 Axes>"
      ]
     },
     "metadata": {
      "needs_background": "light"
     },
     "output_type": "display_data"
    }
   ],
   "source": [
    "# To get separate masks:\n",
    "from skimage import measure\n",
    "\n",
    "regions=(lmask==1).astype('uint8')\n",
    "labeled_regions=measure.label(regions)\n",
    "plt.imshow(labeled_regions, cmap='jet')"
   ]
  },
  {
   "cell_type": "code",
   "execution_count": 116,
   "id": "3ccd75d3",
   "metadata": {},
   "outputs": [],
   "source": [
    "obj_ids = np.unique(labeled_regions)\n",
    "obj_ids = obj_ids[1:]\n",
    "masks = labeled_regions == obj_ids[:, None, None]"
   ]
  },
  {
   "cell_type": "code",
   "execution_count": 120,
   "id": "00c4dc70",
   "metadata": {},
   "outputs": [],
   "source": [
    "print(masks.shape)"
   ]
  },
  {
   "cell_type": "code",
   "execution_count": 123,
   "id": "09b1ed87",
   "metadata": {},
   "outputs": [
    {
     "data": {
      "text/plain": [
       "(72, 256, 320)"
      ]
     },
     "execution_count": 123,
     "metadata": {},
     "output_type": "execute_result"
    }
   ],
   "source": [
    "plt.imshow(masks[10]) # each mask separately"
   ]
  },
  {
   "cell_type": "code",
   "execution_count": 128,
   "id": "ad1ef8ed",
   "metadata": {},
   "outputs": [
    {
     "data": {
      "text/plain": [
       "<matplotlib.image.AxesImage at 0x14755c3886a0>"
      ]
     },
     "execution_count": 128,
     "metadata": {},
     "output_type": "execute_result"
    },
    {
     "data": {
      "image/png": "[encoded data removed]",
      "text/plain": [
       "<Figure size 432x288 with 1 Axes>"
      ]
     },
     "metadata": {
      "needs_background": "light"
     },
     "output_type": "display_data"
    }
   ],
   "source": []
  },
  {
   "cell_type": "code",
   "execution_count": null,
   "id": "e65c9ab9",
   "metadata": {},
   "outputs": [],
   "source": []
  }
 ],
 "metadata": {
  "kernelspec": {
   "display_name": "Python 3 (ipykernel)",
   "language": "python",
   "name": "python3"
  },
  "language_info": {
   "codemirror_mode": {
    "name": "ipython",
    "version": 3
   },
   "file_extension": ".py",
   "mimetype": "text/x-python",
   "name": "python",
   "nbconvert_exporter": "python",
   "pygments_lexer": "ipython3",
   "version": "3.9.7"
  }
 },
 "nbformat": 4,
 "nbformat_minor": 5
}
